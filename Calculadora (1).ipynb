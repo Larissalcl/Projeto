{
  "cells": [
    {
      "cell_type": "code",
      "execution_count": null,
      "metadata": {
        "id": "FuY34DwlBzXV"
      },
      "outputs": [],
      "source": [
        "# receber um número\n",
        "# receber um operador\n",
        "# receber um outro número\n",
        "# mostrar o resultado"
      ]
    },
    {
      "cell_type": "code",
      "execution_count": null,
      "metadata": {
        "colab": {
          "background_save": true
        },
        "id": "tIVzKRylCIcp",
        "outputId": "1fa7374e-2046-41da-d9a5-82a4c0c81f9c"
      },
      "outputs": [
        {
          "name": "stdout",
          "output_type": "stream",
          "text": [
            "operador inválido\n"
          ]
        }
      ],
      "source": [
        "while True:\n",
        "  operacao = input ('''Qual operação desejada? Escolha entre as seguintes opções:\n",
        "  \"+\" para soma\n",
        "  \"-\" para subtração\n",
        "  \"*\" para multiplicação\n",
        "  \"/\" para divisão\n",
        "  \"sair\" para sair\n",
        "  Operacao= ''')\n",
        "  if operacao == \"sair\":\n",
        "   break\n",
        "  número1 = int(input(\"Digite o número: \"))\n",
        "  número2 = int(input(\"Digite o número:\"))\n",
        "  if operacao == \"+\":\n",
        "    resultado = número1 + número2\n",
        "    print (resultado)\n",
        "  elif operacao == \"-\":\n",
        "    resultado = número1 - número2\n",
        "    print (resultado)\n",
        "  elif operacao == \"*\":\n",
        "    resultado = número1 * número2\n",
        "    print (resultado)\n",
        "  elif operacao == \"/\":\n",
        "    resultado = número1 / número2\n",
        "    print (resultado)\n",
        "  else:\n",
        "    print(\"operador inválido\")"
      ]
    },
    {
      "cell_type": "code",
      "execution_count": null,
      "metadata": {
        "id": "uMI4EsKDD4Pf"
      },
      "outputs": [],
      "source": []
    }
  ],
  "metadata": {
    "colab": {
      "provenance": []
    },
    "kernelspec": {
      "display_name": "Python 3",
      "name": "python3"
    },
    "language_info": {
      "name": "python"
    }
  },
  "nbformat": 4,
  "nbformat_minor": 0
}